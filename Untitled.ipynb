{
 "cells": [
  {
   "cell_type": "code",
   "execution_count": null,
   "id": "aefbb3c6",
   "metadata": {},
   "outputs": [],
   "source": []
  },
  {
   "cell_type": "markdown",
   "id": "3df52d5d",
   "metadata": {},
   "source": [
    "**Pipfile Content**"
   ]
  },
  {
   "cell_type": "raw",
   "id": "a7e214d6",
   "metadata": {},
   "source": [
    "[[source]]\n",
    "url = \"https://pypi.org/simple\"\n",
    "verify_ssl = true\n",
    "name = \"pypi\"\n",
    "\n",
    "[packages]\n",
    "requests = \"==2.31.0\"\n",
    "numpy = \"==1.25.2\"\n",
    "pandas = \"==2.0.3\"\n",
    "matplotlib = \"==3.7.2\"\n",
    "jupyterlab = \"==4.0.5\"\n",
    "ipykernel = \"==6.25.1\"\n",
    "\n",
    "[dev-packages]\n",
    "\n",
    "[requires]\n",
    "python_version = \"3.11\"\n",
    "python_full_version = \"3.11.4\"\n"
   ]
  },
  {
   "cell_type": "code",
   "execution_count": 1,
   "id": "7beb16d4",
   "metadata": {
    "scrolled": true
   },
   "outputs": [
    {
     "name": "stdout",
     "output_type": "stream",
     "text": [
      "Python 3.11.4\n"
     ]
    }
   ],
   "source": [
    "!python -V"
   ]
  }
 ],
 "metadata": {
  "kernelspec": {
   "display_name": "DS Assignment 1 Env",
   "language": "python",
   "name": "other-env"
  },
  "language_info": {
   "codemirror_mode": {
    "name": "ipython",
    "version": 3
   },
   "file_extension": ".py",
   "mimetype": "text/x-python",
   "name": "python",
   "nbconvert_exporter": "python",
   "pygments_lexer": "ipython3",
   "version": "3.11.4"
  }
 },
 "nbformat": 4,
 "nbformat_minor": 5
}
