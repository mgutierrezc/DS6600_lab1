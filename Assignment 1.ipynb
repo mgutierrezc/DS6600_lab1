{
 "cells": [
  {
   "cell_type": "markdown",
   "id": "e36ecbdb",
   "metadata": {},
   "source": [
    "## Problem 2.a."
   ]
  },
  {
   "cell_type": "markdown",
   "id": "c3879280",
   "metadata": {},
   "source": [
    "**Pipfile Content**"
   ]
  },
  {
   "cell_type": "raw",
   "id": "a47b3ea9",
   "metadata": {},
   "source": [
    "[[source]]\n",
    "url = \"https://pypi.org/simple\"\n",
    "verify_ssl = true\n",
    "name = \"pypi\"\n",
    "\n",
    "[packages]\n",
    "requests = \"==2.31.0\"\n",
    "numpy = \"==1.25.2\"\n",
    "pandas = \"==2.0.3\"\n",
    "matplotlib = \"==3.7.2\"\n",
    "jupyterlab = \"==4.0.5\"\n",
    "ipykernel = \"==6.25.1\"\n",
    "\n",
    "[dev-packages]\n",
    "\n",
    "[requires]\n",
    "python_version = \"3.11\"\n",
    "python_full_version = \"3.11.4\"\n"
   ]
  },
  {
   "cell_type": "markdown",
   "id": "da509b83",
   "metadata": {},
   "source": [
    "## Problem 2.b."
   ]
  },
  {
   "cell_type": "code",
   "execution_count": 1,
   "id": "492c7007",
   "metadata": {
    "scrolled": true
   },
   "outputs": [
    {
     "name": "stdout",
     "output_type": "stream",
     "text": [
      "Python 3.11.4\n"
     ]
    }
   ],
   "source": [
    "!python -V"
   ]
  },
  {
   "cell_type": "markdown",
   "id": "a662f8ac",
   "metadata": {},
   "source": [
    "## Problem 2.c."
   ]
  },
  {
   "cell_type": "code",
   "execution_count": 2,
   "id": "bf81c947",
   "metadata": {},
   "outputs": [],
   "source": [
    "import numpy, pandas, matplotlib, requests"
   ]
  },
  {
   "cell_type": "code",
   "execution_count": 3,
   "id": "e0f2987c",
   "metadata": {},
   "outputs": [
    {
     "ename": "ModuleNotFoundError",
     "evalue": "No module named 'sklearn'",
     "output_type": "error",
     "traceback": [
      "\u001b[1;31m---------------------------------------------------------------------------\u001b[0m",
      "\u001b[1;31mModuleNotFoundError\u001b[0m                       Traceback (most recent call last)",
      "Cell \u001b[1;32mIn[3], line 1\u001b[0m\n\u001b[1;32m----> 1\u001b[0m \u001b[38;5;28;01mimport\u001b[39;00m \u001b[38;5;21;01msklearn\u001b[39;00m\n",
      "\u001b[1;31mModuleNotFoundError\u001b[0m: No module named 'sklearn'"
     ]
    }
   ],
   "source": [
    "import sklearn"
   ]
  },
  {
   "cell_type": "markdown",
   "id": "dc45c030",
   "metadata": {},
   "source": [
    "# Problem 3"
   ]
  },
  {
   "cell_type": "markdown",
   "id": "f48192e8",
   "metadata": {},
   "source": [
    "## Problem 3.a."
   ]
  },
  {
   "cell_type": "markdown",
   "id": "80e11fc4",
   "metadata": {},
   "source": [
    "- Containers works best as it'll allow the software to be generalized for all chapters and, by pushing it to the hub, any chapter would be able to use the portal and app plus setting up their databases.\n",
    "- Neither of the other options allow the same level of generalization nor compatibility, with the exception of a virtual machine (vm onwards). However, sharing a vm is complicated given their sizes, don't have the same stability and take out a lot of resources from the computer deploying them.\n"
   ]
  },
  {
   "cell_type": "markdown",
   "id": "4b5e2f93",
   "metadata": {},
   "source": [
    "## Problem 3.b."
   ]
  },
  {
   "cell_type": "markdown",
   "id": "d9fac787",
   "metadata": {},
   "source": [
    "- All options are overkill but the virtual and global environment. However, using a global environment for any task is a bad practice. Installing any packages here always carries the risk of altering some component in your installation of python, which could end up in a situation where you are no longer able to run anything globally unless reinstalling python. Hence, for this and similar situations, it's best to work on a virtual environment.\n",
    "- The other options are overkill because you've been asked for the report only, not a system capable of deploying the tools used to create it.\n"
   ]
  },
  {
   "cell_type": "markdown",
   "id": "34cd4163",
   "metadata": {},
   "source": [
    "## Problem 3.c."
   ]
  },
  {
   "cell_type": "markdown",
   "id": "141966f9",
   "metadata": {},
   "source": [
    "- A virtual machine is the best solution as it can allow you to debug the code you're working on in the right OS, and specially if you are working by yourself. It'd be better if instead you deploy your project in a cloud server though as it allows for more flexibility and consumes less local resources (only resources needed are the ones to code). \n",
    "- A container would be overkill as it might only be necessary only for the final deployment, as it's main advantage is the deployment of fully developed services. \n",
    "- A virtual/global environment would be insufficient given that they lack of control regarding the OS used for their deployment."
   ]
  },
  {
   "cell_type": "markdown",
   "id": "3332033e",
   "metadata": {},
   "source": [
    "## Problem 3.d."
   ]
  },
  {
   "cell_type": "markdown",
   "id": "f57d0870",
   "metadata": {},
   "source": [
    "- A virtual environment should be sufficient as you can create it with any python version you want. \n",
    "- The global environment can work in this scenario too as you can have multiple python versions installed on your computer simultaneously and use the `py` manager to switch to the one you need at any point. You can do this and create a virtual environment after choosing the python version you wanna work with.\n",
    "- The other options are an overkill as you'd be consuming much more resources to deploy Python 4 when you have easier/less intensive options such as the ones described above.\n"
   ]
  },
  {
   "cell_type": "markdown",
   "id": "4f3e7725",
   "metadata": {},
   "source": [
    "# Problem 4"
   ]
  },
  {
   "cell_type": "markdown",
   "id": "168679b8",
   "metadata": {},
   "source": [
    "## Problem 4.a."
   ]
  },
  {
   "cell_type": "raw",
   "id": "b34027b5",
   "metadata": {
    "vscode": {
     "languageId": "raw"
    }
   },
   "source": [
    "FROM ubuntu:latest\n",
    "\n",
    "# update package list\n",
    "RUN apt-get update && apt-get install -y python3\n",
    "\n",
    "# Set the default command to run Python 3\n",
    "CMD [\"python3\"]\n"
   ]
  },
  {
   "cell_type": "markdown",
   "id": "d3be612b",
   "metadata": {},
   "source": [
    "## Problem 4.b."
   ]
  },
  {
   "cell_type": "raw",
   "id": "fc446374",
   "metadata": {
    "vscode": {
     "languageId": "raw"
    }
   },
   "source": [
    "PS D:\\Accesos directos\\Trabajo\\UVA\\Classes\\DEng I\\Repos\\DS6600_lab1> docker build . -t assignment_1_p4\n",
    "[+] Building 19.9s (7/7) FINISHED                                                                                 docker:desktop-linux\n",
    " => [internal] load build definition from Dockerfile                                                                              0.1s\n",
    " => => transferring dockerfile: 194B                                                                                              0.0s \n",
    " => [internal] load metadata for docker.io/library/ubuntu:latest                                                                  1.3s \n",
    " => [auth] library/ubuntu:pull token for registry-1.docker.io                                                                     0.0s\n",
    " => [internal] load .dockerignore                                                                                                 0.0s\n",
    " => => transferring context: 2B                                                                                                   0.0s \n",
    " => [1/2] FROM docker.io/library/ubuntu:latest@sha256:dfc10878be8d8fc9c61cbff33166cb1d1fe44391539243703c72766894fa834a            3.2s \n",
    " => => resolve docker.io/library/ubuntu:latest@sha256:dfc10878be8d8fc9c61cbff33166cb1d1fe44391539243703c72766894fa834a            0.0s\n",
    " => => sha256:dafa2b0c44d2cfb0be6721f079092ddf15dc8bc537fb07fe7c3264c15cb2e8e6 29.75MB / 29.75MB                                  1.3s \n",
    " => => sha256:dfc10878be8d8fc9c61cbff33166cb1d1fe44391539243703c72766894fa834a 1.34kB / 1.34kB                                    0.0s \n",
    " => => sha256:77d57fd89366f7d16615794a5b53e124d742404e20f035c22032233f1826bd6a 424B / 424B                                        0.0s \n",
    " => => sha256:b1e9cef3f2977f8bdd19eb9ae04f83b315f80fe4f5c5651fedf41482c12432f7 2.30kB / 2.30kB                                    0.0s \n",
    " => => extracting sha256:dafa2b0c44d2cfb0be6721f079092ddf15dc8bc537fb07fe7c3264c15cb2e8e6                                         1.6s \n",
    " => [2/2] RUN apt-get update && apt-get install -y python3                                                                       14.8s \n",
    " => exporting to image                                                                                                            0.5s \n",
    " => => exporting layers                                                                                                           0.5s \n",
    " => => writing image sha256:9478eacbf6c7e59d8693385c0954ae38e5535174d27dfab38b1691e120165d53                                      0.0s \n",
    " => => naming to docker.io/library/assignment_1_p4                                                                                0.0s \n",
    "\n",
    "What's next:\n",
    "    View a summary of image vulnerabilities and recommendations → docker scout quickview"
   ]
  },
  {
   "cell_type": "markdown",
   "id": "1abab9fa",
   "metadata": {},
   "source": [
    "## Problem 4.c."
   ]
  },
  {
   "cell_type": "raw",
   "id": "75e25e9b",
   "metadata": {
    "vscode": {
     "languageId": "raw"
    }
   },
   "source": [
    "PS D:\\Accesos directos\\Trabajo\\UVA\\Classes\\DEng I\\Repos\\DS6600_lab1> docker run -it assignment_1_p4\n",
    "Python 3.12.3 (main, Sep 11 2024, 14:17:37) [GCC 13.2.0] on linux\n",
    "Type \"help\", \"copyright\", \"credits\" or \"license\" for more information.\n",
    ">>>"
   ]
  }
 ],
 "metadata": {
  "kernelspec": {
   "display_name": "DS6600_lab1-WU2veecH",
   "language": "python",
   "name": "python3"
  },
  "language_info": {
   "codemirror_mode": {
    "name": "ipython",
    "version": 3
   },
   "file_extension": ".py",
   "mimetype": "text/x-python",
   "name": "python",
   "nbconvert_exporter": "python",
   "pygments_lexer": "ipython3",
   "version": "3.11.4"
  }
 },
 "nbformat": 4,
 "nbformat_minor": 5
}
